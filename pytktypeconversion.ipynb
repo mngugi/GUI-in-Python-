{
 "cells": [
  {
   "cell_type": "code",
   "execution_count": null,
   "id": "c8c17266-4b9d-4220-b9ae-a25e06ae741a",
   "metadata": {},
   "outputs": [],
   "source": [
    "import tkinter as tk\n",
    "\n",
    "root = tk.Tk()\n",
    "root.geometry('400x400')\n",
    "root.resizable(True, True)\n",
    "\n",
    "label = tk.Label(root, text=\"\", justify=\"left\", background='yellow', font=(\"calibri\", 10))\n",
    "label.pack(pady=10)\n",
    "\n",
    "fields = {}\n",
    "\n",
    "\n",
    "fields['price_label'] = tk.Label(text='price')\n",
    "fields['price'] = tk.Entry()\n",
    "\n",
    "fields['tax_label'] = tk.Label(text='tax')\n",
    "fields['tax'] = tk.Entry()\n",
    "\n",
    "def cal_taxamount():\n",
    "    taxamount_label = price * tax / 100\n",
    "    \n",
    "\n",
    "root.mainloop()"
   ]
  }
 ],
 "metadata": {
  "kernelspec": {
   "display_name": "Python 3 (ipykernel)",
   "language": "python",
   "name": "python3"
  },
  "language_info": {
   "codemirror_mode": {
    "name": "ipython",
    "version": 3
   },
   "file_extension": ".py",
   "mimetype": "text/x-python",
   "name": "python",
   "nbconvert_exporter": "python",
   "pygments_lexer": "ipython3",
   "version": "3.12.2"
  }
 },
 "nbformat": 4,
 "nbformat_minor": 5
}
