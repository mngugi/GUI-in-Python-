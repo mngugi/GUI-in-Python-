{
 "cells": [
  {
   "cell_type": "code",
   "execution_count": 1,
   "id": "c8c17266-4b9d-4220-b9ae-a25e06ae741a",
   "metadata": {},
   "outputs": [
    {
     "name": "stderr",
     "output_type": "stream",
     "text": [
      "Exception in Tkinter callback\n",
      "Traceback (most recent call last):\n",
      "  File \"/home/sigma69/anaconda3/lib/python3.12/tkinter/__init__.py\", line 1967, in __call__\n",
      "    return self.func(*args)\n",
      "           ^^^^^^^^^^^^^^^^\n",
      "  File \"/tmp/ipykernel_28100/555292122.py\", line 20, in cal_taxamount\n",
      "    taxamount_label = price * tax / 100\n",
      "                      ^^^^^\n",
      "NameError: name 'price' is not defined. Did you mean: 'print'?\n",
      "Exception in Tkinter callback\n",
      "Traceback (most recent call last):\n",
      "  File \"/home/sigma69/anaconda3/lib/python3.12/tkinter/__init__.py\", line 1967, in __call__\n",
      "    return self.func(*args)\n",
      "           ^^^^^^^^^^^^^^^^\n",
      "  File \"/tmp/ipykernel_28100/555292122.py\", line 20, in cal_taxamount\n",
      "    taxamount_label = price * tax / 100\n",
      "                      ^^^^^\n",
      "NameError: name 'price' is not defined. Did you mean: 'print'?\n"
     ]
    }
   ],
   "source": [
    "import tkinter as tk\n",
    "\n",
    "root = tk.Tk()\n",
    "root.geometry('400x400')\n",
    "root.resizable(True, True)\n",
    "\n",
    "label = tk.Label(root, text=\"\", justify=\"left\", background='yellow', font=(\"calibri\", 10))\n",
    "label.pack(pady=10)\n",
    "\n",
    "fields = {}\n",
    "\n",
    "\n",
    "fields['price_label'] = tk.Label(text='price')\n",
    "fields['price_label'] = tk.pack()\n",
    "fields['price'] = tk.Entry(root)\n",
    "fields['price'].pack()\n",
    "\n",
    "fields['tax_label'] = tk.Label(text='tax')\n",
    "fields['tax_label'].pack()\n",
    "fields['tax'] = tk.Entry(root)\n",
    "fields['tax'].pack()\n",
    "\n",
    "result_label = tk.Label(root, text='Total Amount:', font=(\"Sans\", 11), bg='white')\n",
    "result_label.pack(pady=10)\n",
    "\n",
    "def cal_taxamount():\n",
    "    try:\n",
    "        \n",
    "        taxamount_label = price * tax / 100\n",
    "\n",
    "btn = tk.Button(root, text=\"Total amount: \", command=cal_taxamount)\n",
    "btn.pack(pady=5)\n",
    "\n",
    "\n",
    "root.mainloop()"
   ]
  },
  {
   "cell_type": "code",
   "execution_count": null,
   "id": "2e49e55d-dba8-4e84-aba0-7f3523c1c6c9",
   "metadata": {},
   "outputs": [],
   "source": []
  }
 ],
 "metadata": {
  "kernelspec": {
   "display_name": "Python 3 (ipykernel)",
   "language": "python",
   "name": "python3"
  },
  "language_info": {
   "codemirror_mode": {
    "name": "ipython",
    "version": 3
   },
   "file_extension": ".py",
   "mimetype": "text/x-python",
   "name": "python",
   "nbconvert_exporter": "python",
   "pygments_lexer": "ipython3",
   "version": "3.12.2"
  }
 },
 "nbformat": 4,
 "nbformat_minor": 5
}
