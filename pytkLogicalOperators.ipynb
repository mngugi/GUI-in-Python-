{
 "cells": [
  {
   "cell_type": "markdown",
   "id": "19784d0b-011e-4422-b72a-584636b99613",
   "metadata": {},
   "source": [
    "Python has three logical operators:\n",
    "\n",
    "- and\n",
    "- or\n",
    "- not\n",
    "### AND Operator Truth Table\n",
    "\n",
    "The following table illustrates the result of the `and` operator when combining two conditions:\n",
    "\n",
    "| a     | b     | a and b |\n",
    "|-------|-------|---------|\n",
    "| True  | True  | True    |\n",
    "| True  | False | False   |\n",
    "| False | False | False   |\n",
    "| False | True  | False   |\n"
   ]
  },
  {
   "cell_type": "code",
   "execution_count": 11,
   "id": "77f634d7-042e-4da9-aa6e-0041e7cbd537",
   "metadata": {},
   "outputs": [],
   "source": [
    "import tkinter as tk\n",
    "\n",
    "root = tk.Tk()\n",
    "root.geometry('200x200')\n",
    "root.resizable(True, True)\n",
    "\n",
    "label = tk.Label(root,fg='green', bg='white', text=\"\")\n",
    "label.pack(pady=5)\n",
    "\n",
    "def logicalOPs():\n",
    "    #float result\n",
    "    price = 9.99\n",
    "    result = price > 9 and price < 10\n",
    "    label.config(text=f\"The logical answer is: {result}\")\n",
    "\n",
    "button= tk.Button(root, text='Compare', command=logicalOPs)\n",
    "button.pack(pady=10)\n",
    "\n",
    "root.mainloop()\n",
    "    "
   ]
  },
  {
   "cell_type": "code",
   "execution_count": null,
   "id": "77c3dfd4-2539-48e5-8025-0abe8e5434fd",
   "metadata": {},
   "outputs": [],
   "source": []
  }
 ],
 "metadata": {
  "kernelspec": {
   "display_name": "Python 3 (ipykernel)",
   "language": "python",
   "name": "python3"
  },
  "language_info": {
   "codemirror_mode": {
    "name": "ipython",
    "version": 3
   },
   "file_extension": ".py",
   "mimetype": "text/x-python",
   "name": "python",
   "nbconvert_exporter": "python",
   "pygments_lexer": "ipython3",
   "version": "3.12.2"
  }
 },
 "nbformat": 4,
 "nbformat_minor": 5
}
