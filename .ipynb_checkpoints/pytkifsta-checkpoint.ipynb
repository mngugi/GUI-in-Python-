{
 "cells": [
  {
   "cell_type": "markdown",
   "id": "8171a8b2-8700-4d00-bfb7-71f977df6d1b",
   "metadata": {},
   "source": [
    "**Overview**\n",
    "\n",
    "This pyhthon snippet is a if statement that executes a block of code, and that is\n",
    "integrated in tkinter GUI.\n",
    "\n",
    "---"
   ]
  },
  {
   "cell_type": "code",
   "execution_count": null,
   "id": "2aa78dac-17be-4907-9a8a-622f86380fc9",
   "metadata": {},
   "outputs": [],
   "source": [
    "import tkinter as tk\n",
    "\n",
    "root = tk.Tk()\n",
    "root.geometry('200x250')\n",
    "root.resizable(True,True)\n",
    "\n",
    "label = tk.Label(root, text='', fg='purple', bg='pink')\n",
    "label.pack(pady=5)\n",
    "\n",
    "def ifstatement():\n",
    "    age = 18\n",
    "    if int(age) >=18:\n",
    "        label.config(text= f'The legal age to vote is: {age} years.' )\n",
    "\n",
    "button= tk.Button(root, text='Age', command=ifstatement)\n",
    "button.pack(pady=10)\n",
    "\n",
    "root.mainloop()\n",
    "        \n",
    "    "
   ]
  },
  {
   "cell_type": "markdown",
   "id": "26deb7b0-bb95-4f9c-93ba-dc4487426abe",
   "metadata": {},
   "source": [
    "`def ifstatement():`\n",
    "\n",
    "    \"\"\"\n",
    "    Checks if a person is eligible to vote and updates the label.\n",
    "\n",
    "    - Sets the variable `age` to 18.\n",
    "    - Uses an if-statement to check if `age` is 18 or older.\n",
    "    - If the condition is true, updates the label to display a message \n",
    "      confirming the legal voting age.\n",
    "    \"\"\"\n",
    "    ```\n",
    "    age = 18\n",
    "    if int(age) >= 18:  # Check if age is 18 or older\n",
    "        label.config(text=f'The legal age to vote is: {age} years.')\n",
    "    ```    \n",
    "    \n",
    "- The variable age is set to 18.\n",
    "\n",
    "- The if statement checks if age is greater than or equal to 18.\n",
    "\n",
    "- Since 18 >= 18 is True, the program updates the Tkinter label with the message:\n",
    "\n",
    "  \n",
    "`\"The legal age to vote is: 18 years.\"`"
   ]
  },
  {
   "cell_type": "code",
   "execution_count": null,
   "id": "61b18777-1556-496d-9634-caf29198b20d",
   "metadata": {},
   "outputs": [],
   "source": []
  }
 ],
 "metadata": {
  "kernelspec": {
   "display_name": "Python 3 (ipykernel)",
   "language": "python",
   "name": "python3"
  },
  "language_info": {
   "codemirror_mode": {
    "name": "ipython",
    "version": 3
   },
   "file_extension": ".py",
   "mimetype": "text/x-python",
   "name": "python",
   "nbconvert_exporter": "python",
   "pygments_lexer": "ipython3",
   "version": "3.12.2"
  }
 },
 "nbformat": 4,
 "nbformat_minor": 5
}
