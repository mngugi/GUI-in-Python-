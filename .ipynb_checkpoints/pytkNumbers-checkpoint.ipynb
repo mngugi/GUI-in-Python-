{
 "cells": [
  {
   "cell_type": "code",
   "execution_count": 7,
   "id": "babfd7d0-571d-444e-95d7-4d0e086db0a1",
   "metadata": {},
   "outputs": [
    {
     "name": "stderr",
     "output_type": "stream",
     "text": [
      "Exception in Tkinter callback\n",
      "Traceback (most recent call last):\n",
      "  File \"/home/sigma69/anaconda3/lib/python3.12/tkinter/__init__.py\", line 1967, in __call__\n",
      "    return self.func(*args)\n",
      "           ^^^^^^^^^^^^^^^^\n",
      "  File \"/tmp/ipykernel_11510/1281908418.py\", line 19, in sum_difference\n",
      "    label.config(text=difference)\n",
      "    ^^^^^\n",
      "UnboundLocalError: cannot access local variable 'label' where it is not associated with a value\n"
     ]
    }
   ],
   "source": [
    "import tkinter as tk\n",
    "\n",
    "root = tk.Tk()\n",
    "root.geometry('400x400')\n",
    "root.resizable(True,True)\n",
    "\n",
    "label = tk.Label(root, text=\"\", justify=\"left\", background='yellow', font=(\"calibri\", 10))\n",
    "label.pack(pady=10)\n",
    "\n",
    "num_one = 30\n",
    "num_two = 60\n",
    "\n",
    "def total_sum():\n",
    "    total=num_one + num_two\n",
    "    label.config(text=total)\n",
    "\n",
    "def sum_difference():\n",
    "    difference = num_one - num_two\n",
    "    label.config(text=difference)\n",
    "\n",
    "    if difference < 0 :\n",
    "        label.config(text=\"Warning: Difference is negative!\", background='yellow')\n",
    "    else:\n",
    "        label.config(text=\"Difference is positive or zero\", background='white')\n",
    "    \n",
    "    \n",
    "        \n",
    "\n",
    "btn = tk.Button(root, text=\"Total Sum\", command=total_sum)\n",
    "btn.pack(pady=5)\n",
    "\n",
    "btn = tk.Button(root, text=\"Sum Difference\", command=sum_difference)\n",
    "btn.pack(pady=5)\n",
    "\n",
    "root.mainloop()"
   ]
  },
  {
   "cell_type": "code",
   "execution_count": null,
   "id": "32e9b9d0-9837-4d63-ad28-fbba15b4f0d9",
   "metadata": {},
   "outputs": [],
   "source": []
  }
 ],
 "metadata": {
  "kernelspec": {
   "display_name": "Python 3 (ipykernel)",
   "language": "python",
   "name": "python3"
  },
  "language_info": {
   "codemirror_mode": {
    "name": "ipython",
    "version": 3
   },
   "file_extension": ".py",
   "mimetype": "text/x-python",
   "name": "python",
   "nbconvert_exporter": "python",
   "pygments_lexer": "ipython3",
   "version": "3.12.2"
  }
 },
 "nbformat": 4,
 "nbformat_minor": 5
}
