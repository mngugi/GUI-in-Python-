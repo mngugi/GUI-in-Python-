{
 "cells": [
  {
   "cell_type": "markdown",
   "id": "ef217be0-0b91-48c6-8456-05d43d24eaff",
   "metadata": {},
   "source": [
    "**Overview**\n",
    "\n",
    "This is a simple Tkinter GUI application that displays a help message when a button is clicked. The message provides basic usage instructions for MySQL commands.\n",
    "Code Breakdown\n",
    "\n",
    "    Importing Required Modules\n",
    "\n",
    "import tkinter as tk\n",
    "\n",
    "    tkinter is used to create the graphical user interface.\n",
    "\n",
    "    Creating the Main Window\n",
    "\n",
    "root = tk.Tk()\n",
    "root.geometry('600x400')\n",
    "root.resizable(True, True)\n",
    "\n",
    "    Tk() initializes the main application window.\n",
    "    geometry('600x400') sets the window size to 600x400 pixels.\n",
    "    resizable(False, False) allows resizing of the window.\n",
    "\n",
    "    Creating the Label Widget\n",
    "\n",
    "label = tk.Label(root, text=\"0\")\n",
    "label.pack(pady=5)\n",
    "\n",
    "    Label(root, text=\"0\") creates a label widget with an initial value of \"0\".\n",
    "    pack(pady=5) places the label in the window with padding.\n"
   ]
  },
  {
   "cell_type": "code",
   "execution_count": 6,
   "id": "c7fda915-f93b-4084-8522-61a726790e6e",
   "metadata": {},
   "outputs": [],
   "source": [
    "import tkinter as tk\n",
    "\n",
    "root = tk.Tk()\n",
    "root.geometry('400x400')\n",
    "root.resizable(False,False)\n",
    "\n",
    "label = tk.Label(root, text=\"\", justify=\"left\", font=(\"calibri\", 10))\n",
    "label.pack(pady=10)\n",
    "\n",
    "def help_message():\n",
    "    message = '''\n",
    "    Usage: mysql command\n",
    "    -h hostname     \n",
    "    -d database name\n",
    "    -u username\n",
    "    -p password \n",
    "     '''\n",
    "    label.config(text=message)\n",
    "    \n",
    "btn = tk.Button(root, text=\"Show message\", command=help_message)\n",
    "btn.pack(pady=5)\n",
    "\n",
    "root.mainloop()\n",
    "\n"
   ]
  },
  {
   "cell_type": "code",
   "execution_count": null,
   "id": "fde5fdad-82f9-41e7-b747-5e1659298b84",
   "metadata": {},
   "outputs": [],
   "source": []
  },
  {
   "cell_type": "code",
   "execution_count": null,
   "id": "30b3649d-b252-4597-88c4-e37d86dca010",
   "metadata": {},
   "outputs": [],
   "source": []
  }
 ],
 "metadata": {
  "kernelspec": {
   "display_name": "Python 3 (ipykernel)",
   "language": "python",
   "name": "python3"
  },
  "language_info": {
   "codemirror_mode": {
    "name": "ipython",
    "version": 3
   },
   "file_extension": ".py",
   "mimetype": "text/x-python",
   "name": "python",
   "nbconvert_exporter": "python",
   "pygments_lexer": "ipython3",
   "version": "3.12.2"
  }
 },
 "nbformat": 4,
 "nbformat_minor": 5
}
