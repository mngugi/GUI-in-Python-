{
 "cells": [
  {
   "cell_type": "code",
   "execution_count": 8,
   "id": "c54f40d0-d6d4-4698-8da2-fda6d787b956",
   "metadata": {},
   "outputs": [],
   "source": [
    "import tkinter as tk\n",
    "\n",
    "root = tk.Tk()\n",
    "root.geometry('300x300')\n",
    "root.resizable(True,True)\n",
    "\n",
    "entry = tk.Entry(root)\n",
    "entry.pack(pady=5)\n",
    "\n",
    "label = tk.Label(root, text='Enter age', fg='greenyellow', bg='gray')\n",
    "label.pack(pady=5)\n",
    "\n",
    "def if_elif_else():\n",
    "    try:\n",
    "        age = int(entry.get())\n",
    "        your_age= age\n",
    "        if your_age < 5:\n",
    "            ticket_price1 = 5\n",
    "            label.config(text=f'Tikect Price $:  {ticket_price1}')\n",
    "        elif your_age < 16:\n",
    "            ticket_price2 = 10\n",
    "            label.config(text=f'Tikect Price $:  {ticket_price2}')\n",
    "        else:\n",
    "            ticket_price3 = 18\n",
    "            label.config(text=f'Tikect Price $:  {ticket_price3}')\n",
    "        \n",
    "        \n",
    "    except ValueError:\n",
    "        label.config(text='Enter a valid number!')\n",
    "        \n",
    "\n",
    "button= tk.Button(root, text='Age', command=if_elif_else)\n",
    "button.pack(pady=10)\n",
    "\n",
    "root.mainloop()\n",
    "        "
   ]
  },
  {
   "cell_type": "markdown",
   "id": "1c1c29c9-443c-4583-9691-acc49e7a9aef",
   "metadata": {},
   "source": [
    "- the basic syntax of ternary operator in Python:\n",
    "\n",
    "`value_if_true if condition else value_if_false`\n",
    "\n",
    "The ternary operator evaluates the condition. If the result is True, it returns the `value_if_true.` Otherwise, it returns the `value_if_false.`\n",
    "\n",
    "The ternary operator is equivalent to the following if...else statement:\n",
    "\n",
    "```\n",
    "if condition:\n",
    "    value_if_true\n",
    "else:\n",
    "    value_if_false\n",
    "```"
   ]
  },
  {
   "cell_type": "code",
   "execution_count": 9,
   "id": "09472b70-25d1-4aa8-9b72-cfc235f0bf44",
   "metadata": {},
   "outputs": [
    {
     "name": "stdout",
     "output_type": "stream",
     "text": [
      "The ticket price is $20\n"
     ]
    }
   ],
   "source": [
    "age = 20\n",
    "ticket_price = 20 if int(age) >= 18 else 5\n",
    "\n",
    "print(f\"The ticket price is ${ticket_price}\")"
   ]
  },
  {
   "cell_type": "code",
   "execution_count": null,
   "id": "23285e6a-7c83-4529-8008-a006a8b17412",
   "metadata": {},
   "outputs": [],
   "source": []
  }
 ],
 "metadata": {
  "kernelspec": {
   "display_name": "Python 3 (ipykernel)",
   "language": "python",
   "name": "python3"
  },
  "language_info": {
   "codemirror_mode": {
    "name": "ipython",
    "version": 3
   },
   "file_extension": ".py",
   "mimetype": "text/x-python",
   "name": "python",
   "nbconvert_exporter": "python",
   "pygments_lexer": "ipython3",
   "version": "3.12.2"
  }
 },
 "nbformat": 4,
 "nbformat_minor": 5
}
