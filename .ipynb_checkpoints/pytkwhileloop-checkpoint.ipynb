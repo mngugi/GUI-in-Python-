{
 "cells": [
  {
   "cell_type": "code",
   "execution_count": null,
   "id": "835c23e1-22fe-4fe7-89ef-dbc1cffa9c2d",
   "metadata": {},
   "outputs": [],
   "source": [
    "import tkinter as tk\n",
    "\n",
    "root = tk.Tk()\n",
    "root.title(\"Tkinter For Loop Example\")\n",
    "root.resizable(True, True)\n",
    "root.geometry(400x250)\n",
    "\n",
    "label = tk.Label(root, text='Prompt', fg='white', bg='black' )\n",
    "label.pack(pady=5)\n",
    "\n",
    "def prompt_command():\n",
    "    command = ''\n",
    "    while command.lower() !='quit':\n",
    "        command = input('>')\n",
    "        label.config(text= f\"Echo: {command}\")\n",
    "\n",
    "button= tk.Button(root, text='Prompt', command=prompt_command)\n",
    "button.pack(pady=10)\n",
    "\n",
    "root.mainloop()\n",
    "    \n",
    "\n"
   ]
  }
 ],
 "metadata": {
  "kernelspec": {
   "display_name": "Python 3 (ipykernel)",
   "language": "python",
   "name": "python3"
  },
  "language_info": {
   "codemirror_mode": {
    "name": "ipython",
    "version": 3
   },
   "file_extension": ".py",
   "mimetype": "text/x-python",
   "name": "python",
   "nbconvert_exporter": "python",
   "pygments_lexer": "ipython3",
   "version": "3.12.2"
  }
 },
 "nbformat": 4,
 "nbformat_minor": 5
}
