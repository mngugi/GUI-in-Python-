{
 "cells": [
  {
   "cell_type": "code",
   "execution_count": 4,
   "id": "c8c17266-4b9d-4220-b9ae-a25e06ae741a",
   "metadata": {},
   "outputs": [
    {
     "ename": "AttributeError",
     "evalue": "module 'tkinter' has no attribute 'pack'",
     "output_type": "error",
     "traceback": [
      "\u001b[0;31m---------------------------------------------------------------------------\u001b[0m",
      "\u001b[0;31mAttributeError\u001b[0m                            Traceback (most recent call last)",
      "Cell \u001b[0;32mIn[4], line 15\u001b[0m\n\u001b[1;32m     11\u001b[0m fields \u001b[38;5;241m=\u001b[39m {}\n\u001b[1;32m     14\u001b[0m fields[\u001b[38;5;124m'\u001b[39m\u001b[38;5;124mprice_label\u001b[39m\u001b[38;5;124m'\u001b[39m] \u001b[38;5;241m=\u001b[39m tk\u001b[38;5;241m.\u001b[39mLabel(text\u001b[38;5;241m=\u001b[39m\u001b[38;5;124m'\u001b[39m\u001b[38;5;124mprice\u001b[39m\u001b[38;5;124m'\u001b[39m)\n\u001b[0;32m---> 15\u001b[0m fields[\u001b[38;5;124m'\u001b[39m\u001b[38;5;124mprice_label\u001b[39m\u001b[38;5;124m'\u001b[39m] \u001b[38;5;241m=\u001b[39m tk\u001b[38;5;241m.\u001b[39mpack()\n\u001b[1;32m     16\u001b[0m fields[\u001b[38;5;124m'\u001b[39m\u001b[38;5;124mprice\u001b[39m\u001b[38;5;124m'\u001b[39m] \u001b[38;5;241m=\u001b[39m tk\u001b[38;5;241m.\u001b[39mEntry(root)\n\u001b[1;32m     17\u001b[0m fields[\u001b[38;5;124m'\u001b[39m\u001b[38;5;124mprice\u001b[39m\u001b[38;5;124m'\u001b[39m]\u001b[38;5;241m.\u001b[39mpack()\n",
      "\u001b[0;31mAttributeError\u001b[0m: module 'tkinter' has no attribute 'pack'"
     ]
    }
   ],
   "source": [
    "import tkinter as tk\n",
    "from tkinter import ttk \n",
    "\n",
    "root = tk.Tk()\n",
    "root.geometry('400x400')\n",
    "root.resizable(True, True)\n",
    "\n",
    "label = tk.Label(root, text=\"\", justify=\"left\", background='yellow', font=(\"calibri\", 10))\n",
    "label.pack(pady=10)\n",
    "\n",
    "fields = {}\n",
    "\n",
    "\n",
    "fields['price_label'] = tk.Label(text='price')\n",
    "fields['price_label'].pack()\n",
    "fields['price'] = tk.Entry(root)\n",
    "fields['price'].pack()\n",
    "\n",
    "fields['tax_label'] = tk.Label(text='tax')\n",
    "fields['tax_label'].pack()\n",
    "fields['tax'] = tk.Entry(root)\n",
    "fields['tax'].pack()\n",
    "\n",
    "result_label = tk.Label(root, text='Total Amount:', font=(\"Sans\", 11), bg='white')\n",
    "result_label.pack(pady=10)\n",
    "\n",
    "def cal_taxamount():\n",
    "    try:\n",
    "        price = float(fields['price'].get())\n",
    "        tax = float(fields['tax'].get())\n",
    "        tax_amount = price * tax / 100\n",
    "        total_amount = price + tax_amount\n",
    "        result_label.config(text=f\"Total Amount: {total_amount:.2f}\")  # Update label\n",
    "\n",
    "    except ValueError:\n",
    "        result_label.config(text=\"Invalid input! Enter numbers only.\", bg=\"red\")\n",
    "\n",
    "btn = tk.Button(root, text=\"Calculate Total Amount\", command=cal_taxamount)\n",
    "btn.pack(pady=5)\n",
    "\n",
    "\n",
    "\n",
    "root.mainloop()"
   ]
  },
  {
   "cell_type": "code",
   "execution_count": null,
   "id": "2e49e55d-dba8-4e84-aba0-7f3523c1c6c9",
   "metadata": {},
   "outputs": [],
   "source": []
  }
 ],
 "metadata": {
  "kernelspec": {
   "display_name": "Python 3 (ipykernel)",
   "language": "python",
   "name": "python3"
  },
  "language_info": {
   "codemirror_mode": {
    "name": "ipython",
    "version": 3
   },
   "file_extension": ".py",
   "mimetype": "text/x-python",
   "name": "python",
   "nbconvert_exporter": "python",
   "pygments_lexer": "ipython3",
   "version": "3.12.2"
  }
 },
 "nbformat": 4,
 "nbformat_minor": 5
}
