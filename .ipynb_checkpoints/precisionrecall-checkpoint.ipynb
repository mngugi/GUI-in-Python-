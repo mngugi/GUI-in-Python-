{
 "cells": [
  {
   "cell_type": "code",
   "execution_count": null,
   "id": "930300d9-2bf0-424e-86be-53270665dbe6",
   "metadata": {},
   "outputs": [],
   "source": [
    "\n",
    "\n",
    "def precision(tp, fp):\n",
    "    '''\n",
    "    Computes the precision score given the number of true positive (tp)\n",
    "    and false positives(fp)\n",
    "    '''\n",
    "    return tp / (tp + fp) if fp + fp > 0 else 0 \n"
   ]
  }
 ],
 "metadata": {
  "kernelspec": {
   "display_name": "Python 3 (ipykernel)",
   "language": "python",
   "name": "python3"
  },
  "language_info": {
   "codemirror_mode": {
    "name": "ipython",
    "version": 3
   },
   "file_extension": ".py",
   "mimetype": "text/x-python",
   "name": "python",
   "nbconvert_exporter": "python",
   "pygments_lexer": "ipython3",
   "version": "3.12.2"
  }
 },
 "nbformat": 4,
 "nbformat_minor": 5
}
