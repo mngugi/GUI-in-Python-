{
 "cells": [
  {
   "cell_type": "markdown",
   "id": "6a7ec4d5-fcd7-4ede-9395-b036af6655dc",
   "metadata": {},
   "source": [
    "\n",
    "**Overview**\n",
    "\n",
    "This Tkinter GUI application now dynamically displays a database table name when the button is clicked. The displayed message is generated using Python f-strings, making it more flexible and dynamic.\n",
    "\n",
    "---\n",
    "\n",
    "**New Features**\n",
    "\n",
    "1. Dynamic Database Table Name Display\n",
    " - The program now includes a variable db_table, which stores the name of a database table.\n",
    " - When the button is clicked, the label displays:\n",
    "\"Data Base Table: Login table\"\n",
    "\n",
    "2. Use of Python f-strings\n",
    " - Instead of a static message, the application now utilizes f-strings (f\"\") to format the text dynamically.\n",
    " - This allows easy customization and future scalability.\n",
    "\n",
    "---\n",
    "\n",
    "**Code Breakdown of New Features**\n",
    "\n",
    "1. Adding a Database Table Variable\n",
    "\n",
    "`db_table = 'Login table`\n",
    "\n",
    "This variable stores the name of the database table.\n",
    "\n",
    "2. Updating the help_message() Function\n",
    "```\n",
    "def help_message():\n",
    "    db_table = 'Login table'\n",
    "    message = f'Data Base Table: {db_table}'\n",
    "    label.config(text=message)\n",
    "```\n",
    "- The function formats the message dynamically using an f-string.\n",
    "- {db_table} is replaced with the value of the db_table variable.\n",
    "- label.config(text=message) updates the label with the new message.\n",
    "\n",
    "3. Expected Output\n",
    "When the user clicks the \"Show message\" button, the label will update to display:\n",
    "\n",
    "`Data Base Table: Login table`\n"
   ]
  },
  {
   "cell_type": "code",
   "execution_count": 1,
   "id": "fb1a0c35-a9d9-4128-a270-3f959893ca52",
   "metadata": {},
   "outputs": [],
   "source": [
    "import tkinter as tk\n",
    "\n",
    "root = tk.Tk()\n",
    "root.geometry('400x400')\n",
    "root.resizable(False,False)\n",
    "\n",
    "label = tk.Label(root, text=\"\", justify=\"left\", font=(\"calibri\", 10))\n",
    "label.pack(pady=10)\n",
    "\n",
    "def help_message():\n",
    "    db_table = 'Login table'\n",
    "    message =  f'Data Base Table:{db_table}' #Python will replace the {name} by the value of the name variable\n",
    "    label.config(text=message)\n",
    "    \n",
    "btn = tk.Button(root, text=\"Show Message\", command=help_message)\n",
    "btn2 = tk.Button(root, text=\"show Message\", command=help_message)\n",
    "\n",
    "btn.pack(pady=5)\n",
    "btn.pack(padx=5)\n",
    "\n",
    "root.mainloop()"
   ]
  },
  {
   "cell_type": "code",
   "execution_count": null,
   "id": "6f8d668c-fdfd-4c3d-a6a9-31ce00d088d4",
   "metadata": {},
   "outputs": [],
   "source": []
  }
 ],
 "metadata": {
  "kernelspec": {
   "display_name": "Python 3 (ipykernel)",
   "language": "python",
   "name": "python3"
  },
  "language_info": {
   "codemirror_mode": {
    "name": "ipython",
    "version": 3
   },
   "file_extension": ".py",
   "mimetype": "text/x-python",
   "name": "python",
   "nbconvert_exporter": "python",
   "pygments_lexer": "ipython3",
   "version": "3.11.2"
  }
 },
 "nbformat": 4,
 "nbformat_minor": 5
}
