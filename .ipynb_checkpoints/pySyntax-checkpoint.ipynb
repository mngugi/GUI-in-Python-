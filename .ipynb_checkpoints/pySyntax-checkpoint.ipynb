{
 "cells": [
  {
   "cell_type": "code",
   "execution_count": 9,
   "id": "e1065ebe-d20e-4c15-8fab-08040c155bc8",
   "metadata": {},
   "outputs": [
    {
     "name": "stdout",
     "output_type": "stream",
     "text": [
      "1\n",
      "2\n",
      "3\n",
      "4\n",
      "5\n",
      "6\n",
      "7\n",
      "8\n",
      "9\n"
     ]
    }
   ],
   "source": [
    "import tkinter as tk\n",
    "from tkinter import ttk\n",
    "\n",
    "root = tk.Tk()\n",
    "root.geometry('600x400')\n",
    "root.resizable(True, True)\n",
    "\n",
    "label = tk.Label(root, text=\"0\")\n",
    "label.pack(pady=5)\n",
    "\n",
    "def main():\n",
    "    j = 1\n",
    "    max_count = 10\n",
    "    while j < max_count:\n",
    "        print(j)\n",
    "        j = j+1\n",
    "        label.config(text=j)\n",
    "\n",
    "\n",
    "button= tk.Button(root, text='Count', command=main)\n",
    "button.pack(pady=10)\n",
    "root.mainloop()"
   ]
  },
  {
   "cell_type": "code",
   "execution_count": 10,
   "id": "f2eb1355-d350-4b10-a3e8-bc14d7d3a85c",
   "metadata": {},
   "outputs": [],
   "source": [
    "import tkinter as tk\n",
    "\n",
    "root = tk.Tk()\n",
    "root.geometry('600x400')\n",
    "\n",
    "label = tk.Label(root, text=\"0\")\n",
    "label.pack(pady=5)\n",
    "\n",
    "def count(j=1):\n",
    "    if j <= 10:\n",
    "        label.config(text=j)\n",
    "        root.after(500, count, j+1)\n",
    "\n",
    "button = tk.Button(root, text='Count', command=count)\n",
    "button.pack(pady=10)\n",
    "\n",
    "root.mainloop()\n"
   ]
  },
  {
   "cell_type": "code",
   "execution_count": null,
   "id": "4f613532-3039-4598-b3e8-ef461a7d9cf0",
   "metadata": {},
   "outputs": [],
   "source": []
  }
 ],
 "metadata": {
  "kernelspec": {
   "display_name": "Python 3 (ipykernel)",
   "language": "python",
   "name": "python3"
  },
  "language_info": {
   "codemirror_mode": {
    "name": "ipython",
    "version": 3
   },
   "file_extension": ".py",
   "mimetype": "text/x-python",
   "name": "python",
   "nbconvert_exporter": "python",
   "pygments_lexer": "ipython3",
   "version": "3.12.2"
  }
 },
 "nbformat": 4,
 "nbformat_minor": 5
}
