{
 "cells": [
  {
   "cell_type": "code",
   "execution_count": 3,
   "id": "c7fda915-f93b-4084-8522-61a726790e6e",
   "metadata": {},
   "outputs": [
    {
     "name": "stderr",
     "output_type": "stream",
     "text": [
      "Exception in Tkinter callback\n",
      "Traceback (most recent call last):\n",
      "  File \"/home/sigma69/anaconda3/lib/python3.12/tkinter/__init__.py\", line 1967, in __call__\n",
      "    return self.func(*args)\n",
      "           ^^^^^^^^^^^^^^^^\n",
      "  File \"/tmp/ipykernel_23716/1590589330.py\", line 18, in help_message\n",
      "    label.config(root, text=\"message\")\n",
      "  File \"/home/sigma69/anaconda3/lib/python3.12/tkinter/__init__.py\", line 1721, in configure\n",
      "    return self._configure('configure', cnf, kw)\n",
      "           ^^^^^^^^^^^^^^^^^^^^^^^^^^^^^^^^^^^^^\n",
      "  File \"/home/sigma69/anaconda3/lib/python3.12/tkinter/__init__.py\", line 1711, in _configure\n",
      "    self.tk.call(_flatten((self._w, cmd)) + self._options(cnf))\n",
      "_tkinter.TclError: unknown option \"-class\"\n",
      "Exception in Tkinter callback\n",
      "Traceback (most recent call last):\n",
      "  File \"/home/sigma69/anaconda3/lib/python3.12/tkinter/__init__.py\", line 1967, in __call__\n",
      "    return self.func(*args)\n",
      "           ^^^^^^^^^^^^^^^^\n",
      "  File \"/tmp/ipykernel_23716/1590589330.py\", line 18, in help_message\n",
      "    label.config(root, text=\"message\")\n",
      "  File \"/home/sigma69/anaconda3/lib/python3.12/tkinter/__init__.py\", line 1721, in configure\n",
      "    return self._configure('configure', cnf, kw)\n",
      "           ^^^^^^^^^^^^^^^^^^^^^^^^^^^^^^^^^^^^^\n",
      "  File \"/home/sigma69/anaconda3/lib/python3.12/tkinter/__init__.py\", line 1711, in _configure\n",
      "    self.tk.call(_flatten((self._w, cmd)) + self._options(cnf))\n",
      "_tkinter.TclError: unknown option \"-class\"\n"
     ]
    }
   ],
   "source": [
    "import tkinter as tk\n",
    "\n",
    "root = tk.Tk()\n",
    "root.geometry('600x400')\n",
    "root.resizable(False,False)\n",
    "\n",
    "label = tk.Label(root, text=\"\", justify=\"left\", font=(\"Arial\", 10))\n",
    "label.pack(pady=10)\n",
    "\n",
    "def help_message():\n",
    "    message = '''\n",
    "    Usage: mysql command\n",
    "    -h hostname     \n",
    "    -d database name\n",
    "    -u username\n",
    "    -p password \n",
    "     '''\n",
    "    label.config(text=\"message\")\n",
    "    \n",
    "btn = tk.Button(root, text=\"Show message\", command=help_message)\n",
    "btn.pack(pady=5)\n",
    "\n",
    "root.mainloop()\n",
    "\n"
   ]
  },
  {
   "cell_type": "code",
   "execution_count": null,
   "id": "30b3649d-b252-4597-88c4-e37d86dca010",
   "metadata": {},
   "outputs": [],
   "source": []
  }
 ],
 "metadata": {
  "kernelspec": {
   "display_name": "Python 3 (ipykernel)",
   "language": "python",
   "name": "python3"
  },
  "language_info": {
   "codemirror_mode": {
    "name": "ipython",
    "version": 3
   },
   "file_extension": ".py",
   "mimetype": "text/x-python",
   "name": "python",
   "nbconvert_exporter": "python",
   "pygments_lexer": "ipython3",
   "version": "3.12.2"
  }
 },
 "nbformat": 4,
 "nbformat_minor": 5
}
