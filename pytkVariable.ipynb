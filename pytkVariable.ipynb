{
 "cells": [
  {
   "cell_type": "markdown",
   "id": "0f06f7e4-6f0b-44fa-85a1-47efddf68a82",
   "metadata": {},
   "source": [
    "**Overview**\n",
    "\n",
    "This Tkinter GUI application dynamically displays a confidential message when the user clicks a button. The label updates with the text \"Confidential Data\", providing a simple yet effective way to showcase sensitive information.\n",
    "\n",
    "**Features**\n",
    "1. Graphical User Interface (GUI)\n",
    "\n",
    " - Uses Tkinter to create a simple window-based application.\n",
    " - Displays a button and a label.\n",
    "   \n",
    "2. Dynamic Text Display\n",
    "\n",
    " - When the button is clicked, the label updates to show the message:\n",
    "\"Confidential Data\".\n",
    "\n",
    "3. Modular Function Implementation\n",
    "\n",
    "- Uses a separate function (variable_value()) to handle the text update.\n",
    "\n",
    "  ---\n",
    "\n",
    "  \n"
   ]
  },
  {
   "cell_type": "code",
   "execution_count": 7,
   "id": "2f715fe9-db33-449e-b783-a74f0742aa5d",
   "metadata": {},
   "outputs": [],
   "source": [
    "import tkinter as tk\n",
    "\n",
    "root = tk.Tk()\n",
    "root.geometry('600x400')\n",
    "root.resizable(True,True)\n",
    "\n",
    "label = tk.Label(root, text='')\n",
    "label.pack(pady=5)\n",
    "\n",
    "def variable_value():\n",
    "    message = \"Confidential Data\"\n",
    "    label.config(text=message) #print message\n",
    "    \n",
    "    \n",
    "btn = tk.Button(root, text=\"Show message\", command=variable_value )\n",
    "btn.pack(pady=5)\n",
    "\n",
    "root.mainloop()\n"
   ]
  },
  {
   "cell_type": "code",
   "execution_count": null,
   "id": "341e2a4e-7535-4807-a2f9-210d008c2181",
   "metadata": {},
   "outputs": [],
   "source": []
  },
  {
   "cell_type": "code",
   "execution_count": 9,
   "id": "e82dfb0f-d8f2-43ea-a04d-76e2820dd35e",
   "metadata": {},
   "outputs": [],
   "source": []
  },
  {
   "cell_type": "code",
   "execution_count": null,
   "id": "a3826dda-4098-4053-a9e4-002cd89be3a2",
   "metadata": {},
   "outputs": [],
   "source": []
  }
 ],
 "metadata": {
  "kernelspec": {
   "display_name": "Python 3 (ipykernel)",
   "language": "python",
   "name": "python3"
  },
  "language_info": {
   "codemirror_mode": {
    "name": "ipython",
    "version": 3
   },
   "file_extension": ".py",
   "mimetype": "text/x-python",
   "name": "python",
   "nbconvert_exporter": "python",
   "pygments_lexer": "ipython3",
   "version": "3.12.2"
  }
 },
 "nbformat": 4,
 "nbformat_minor": 5
}
