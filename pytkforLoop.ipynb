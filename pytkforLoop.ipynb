{
 "cells": [
  {
   "cell_type": "code",
   "execution_count": 9,
   "id": "33373fc4-58d5-4d77-8021-2a1014fa1d80",
   "metadata": {},
   "outputs": [],
   "source": [
    "import tkinter as tk\n",
    "\n",
    "root= tk.Tk()\n",
    "root.geometry('400x400')\n",
    "root.resizable(True, True)\n",
    "\n",
    "label = tk.Label(root, text=' Loop a number', fg='green', bg='lightyellow')\n",
    "label.pack(pady=5)\n",
    "\n",
    "def for_loop():\n",
    "    for i in range(9):\n",
    "        label.config(text= f'The loop count is: {i}')\n",
    "        \n",
    "\n",
    "button= tk.Button(root, text='ForLoop', command=for_loop)\n",
    "button.pack(pady=10)\n",
    "\n",
    "root.mainloop()"
   ]
  },
  {
   "cell_type": "code",
   "execution_count": 5,
   "id": "a43c8c58-3d75-4bbf-a75b-5e53bd64c898",
   "metadata": {},
   "outputs": [],
   "source": [
    "import tkinter as tk\n",
    "\n",
    "def for_loop(i=0):\n",
    "    if i < 9:\n",
    "        label.config(text=f'The loop count is: {i}')\n",
    "        root.after(500, for_loop, i+1)  # Delay 500ms for each step\n",
    "\n",
    "root = tk.Tk()\n",
    "root.geometry('400x400')\n",
    "root.resizable(True, True)\n",
    "\n",
    "label = tk.Label(root, text='Loop a number', fg='green', bg='lightyellow')\n",
    "label.pack(pady=5)\n",
    "\n",
    "button = tk.Button(root, text='ForLoop', command=for_loop)\n",
    "button.pack(pady=10)\n",
    "\n",
    "root.mainloop()\n"
   ]
  },
  {
   "cell_type": "code",
   "execution_count": 13,
   "id": "5efd5278-e0ef-4320-8212-c9822529e602",
   "metadata": {},
   "outputs": [],
   "source": [
    "import tkinter as tk\n",
    "\n",
    "root= tk.Tk()\n",
    "root.geometry('400x300')\n",
    "root.resizable(True, True)\n",
    "\n",
    "label = tk.Label(root, text='Loop a number', fg='green', bg='lightyellow')\n",
    "label.pack(pady=5)\n",
    "\n",
    "def for_loop():\n",
    "    for index in range(0,9):\n",
    "        label.config(text= f'The loop count is: {index}')\n",
    "        \n",
    "\n",
    "button= tk.Button(root, text='ForLoop', command=for_loop)\n",
    "button.pack(pady=10)\n",
    "\n",
    "root.mainloop()"
   ]
  },
  {
   "cell_type": "code",
   "execution_count": 15,
   "id": "218c2587-d21a-43c3-89d7-ef5aed7a7057",
   "metadata": {},
   "outputs": [],
   "source": [
    "import tkinter as tk\n",
    "\n",
    "root= tk.Tk()\n",
    "root.geometry('300x250')\n",
    "root.resizable(True, True)\n",
    "\n",
    "label = tk.Label(root, text='Sum range', fg='yellowgreen', bg='gray')\n",
    "label.pack(pady=5)\n",
    "\n",
    "def sumAdd(sum=0):\n",
    "    for num in range(101):\n",
    "        sum +=num\n",
    "        label.config(text= f'The is : {sum}')\n",
    "\n",
    "\n",
    "button= tk.Button(root, text='Sum', command=sumAdd)\n",
    "button.pack(pady=10)\n",
    "\n",
    "root.mainloop()"
   ]
  },
  {
   "cell_type": "code",
   "execution_count": null,
   "id": "ed8634a8-005b-4cf9-9179-5e31e2485c77",
   "metadata": {},
   "outputs": [],
   "source": []
  }
 ],
 "metadata": {
  "kernelspec": {
   "display_name": "Python 3 (ipykernel)",
   "language": "python",
   "name": "python3"
  },
  "language_info": {
   "codemirror_mode": {
    "name": "ipython",
    "version": 3
   },
   "file_extension": ".py",
   "mimetype": "text/x-python",
   "name": "python",
   "nbconvert_exporter": "python",
   "pygments_lexer": "ipython3",
   "version": "3.12.2"
  }
 },
 "nbformat": 4,
 "nbformat_minor": 5
}
