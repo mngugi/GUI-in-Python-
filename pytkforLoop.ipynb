{
 "cells": [
  {
   "cell_type": "code",
   "execution_count": 1,
   "id": "33373fc4-58d5-4d77-8021-2a1014fa1d80",
   "metadata": {},
   "outputs": [
    {
     "ename": "NameError",
     "evalue": "name 'if_elif_else' is not defined",
     "output_type": "error",
     "traceback": [
      "\u001b[0;31m---------------------------------------------------------------------------\u001b[0m",
      "\u001b[0;31mNameError\u001b[0m                                 Traceback (most recent call last)",
      "Cell \u001b[0;32mIn[1], line 14\u001b[0m\n\u001b[1;32m     11\u001b[0m     \u001b[38;5;28;01mfor\u001b[39;00m i \u001b[38;5;129;01min\u001b[39;00m \u001b[38;5;28mrange\u001b[39m(\u001b[38;5;241m3\u001b[39m):\n\u001b[1;32m     12\u001b[0m         label\u001b[38;5;241m.\u001b[39mconfig(text\u001b[38;5;241m=\u001b[39m \u001b[38;5;124mf\u001b[39m\u001b[38;5;124m'\u001b[39m\u001b[38;5;124mThe loop count is:\u001b[39m\u001b[38;5;124m'\u001b[39m)\n\u001b[0;32m---> 14\u001b[0m button\u001b[38;5;241m=\u001b[39m tk\u001b[38;5;241m.\u001b[39mButton(root, text\u001b[38;5;241m=\u001b[39m\u001b[38;5;124m'\u001b[39m\u001b[38;5;124mForLoop\u001b[39m\u001b[38;5;124m'\u001b[39m, command\u001b[38;5;241m=\u001b[39mif_elif_else)\n\u001b[1;32m     15\u001b[0m button\u001b[38;5;241m.\u001b[39mpack(pady\u001b[38;5;241m=\u001b[39m\u001b[38;5;241m10\u001b[39m)\n\u001b[1;32m     17\u001b[0m root\u001b[38;5;241m.\u001b[39mmainloop()\n",
      "\u001b[0;31mNameError\u001b[0m: name 'if_elif_else' is not defined"
     ]
    }
   ],
   "source": [
    "import tkinter as tk\n",
    "\n",
    "root= tk.Tk()\n",
    "root.geometry('400x400')\n",
    "root.resizable(True, True)\n",
    "\n",
    "label = tk.Label(root, text=' Loop a number', fg='green', bg='lightyellow')\n",
    "label.pack(pady=5)\n",
    "\n",
    "def for_loop():\n",
    "    for i in range(3):\n",
    "        label.config(text= f'The loop count is:')\n",
    "\n",
    "button= tk.Button(root, text='ForLoop', command=for_loop)\n",
    "button.pack(pady=10)\n",
    "\n",
    "root.mainloop()"
   ]
  },
  {
   "cell_type": "code",
   "execution_count": null,
   "id": "a43c8c58-3d75-4bbf-a75b-5e53bd64c898",
   "metadata": {},
   "outputs": [],
   "source": []
  }
 ],
 "metadata": {
  "kernelspec": {
   "display_name": "Python 3 (ipykernel)",
   "language": "python",
   "name": "python3"
  },
  "language_info": {
   "codemirror_mode": {
    "name": "ipython",
    "version": 3
   },
   "file_extension": ".py",
   "mimetype": "text/x-python",
   "name": "python",
   "nbconvert_exporter": "python",
   "pygments_lexer": "ipython3",
   "version": "3.12.2"
  }
 },
 "nbformat": 4,
 "nbformat_minor": 5
}
