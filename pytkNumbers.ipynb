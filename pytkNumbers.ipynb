{
 "cells": [
  {
   "cell_type": "code",
   "execution_count": 1,
   "id": "babfd7d0-571d-444e-95d7-4d0e086db0a1",
   "metadata": {},
   "outputs": [
    {
     "ename": "NameError",
     "evalue": "name 'help_message' is not defined",
     "output_type": "error",
     "traceback": [
      "\u001b[0;31m---------------------------------------------------------------------------\u001b[0m",
      "\u001b[0;31mNameError\u001b[0m                                 Traceback (most recent call last)",
      "Cell \u001b[0;32mIn[1], line 18\u001b[0m\n\u001b[1;32m     14\u001b[0m     total\u001b[38;5;241m=\u001b[39mnum_one \u001b[38;5;241m+\u001b[39m num_two\n\u001b[1;32m     15\u001b[0m     label\u001b[38;5;241m.\u001b[39mconfig(text\u001b[38;5;241m=\u001b[39mtotal)\n\u001b[0;32m---> 18\u001b[0m btn \u001b[38;5;241m=\u001b[39m tk\u001b[38;5;241m.\u001b[39mButton(root, text\u001b[38;5;241m=\u001b[39m\u001b[38;5;124m\"\u001b[39m\u001b[38;5;124mTotal Sum\u001b[39m\u001b[38;5;124m\"\u001b[39m, command\u001b[38;5;241m=\u001b[39mhelp_message)\n\u001b[1;32m     19\u001b[0m btn\u001b[38;5;241m.\u001b[39mpack(pady\u001b[38;5;241m=\u001b[39m\u001b[38;5;241m5\u001b[39m)\n\u001b[1;32m     21\u001b[0m root\u001b[38;5;241m.\u001b[39mmainloop()\n",
      "\u001b[0;31mNameError\u001b[0m: name 'help_message' is not defined"
     ]
    }
   ],
   "source": [
    "import tkinter as tk\n",
    "\n",
    "root = tk.Tk()\n",
    "root.geometry('400x400')\n",
    "root.resizable(True,True)\n",
    "\n",
    "label = tk.Label(root, text=\"\", justify=\"left\", font=(\"calibri\", 10))\n",
    "label.pack(pady=10)\n",
    "\n",
    "num_one = 30\n",
    "num_two = 60\n",
    "\n",
    "def total_sum():\n",
    "    total=num_one + num_two\n",
    "    label.config(text=total)\n",
    "\n",
    "\n",
    "btn = tk.Button(root, text=\"Total Sum\", command=total_sum)\n",
    "btn.pack(pady=5)\n",
    "\n",
    "root.mainloop()"
   ]
  },
  {
   "cell_type": "code",
   "execution_count": null,
   "id": "32e9b9d0-9837-4d63-ad28-fbba15b4f0d9",
   "metadata": {},
   "outputs": [],
   "source": []
  }
 ],
 "metadata": {
  "kernelspec": {
   "display_name": "Python 3 (ipykernel)",
   "language": "python",
   "name": "python3"
  },
  "language_info": {
   "codemirror_mode": {
    "name": "ipython",
    "version": 3
   },
   "file_extension": ".py",
   "mimetype": "text/x-python",
   "name": "python",
   "nbconvert_exporter": "python",
   "pygments_lexer": "ipython3",
   "version": "3.12.2"
  }
 },
 "nbformat": 4,
 "nbformat_minor": 5
}
