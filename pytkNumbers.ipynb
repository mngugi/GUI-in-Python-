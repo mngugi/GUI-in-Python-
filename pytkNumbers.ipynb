{
 "cells": [
  {
   "cell_type": "code",
   "execution_count": null,
   "id": "babfd7d0-571d-444e-95d7-4d0e086db0a1",
   "metadata": {},
   "outputs": [],
   "source": [
    "import tkinter as tk\n",
    "\n",
    "root = tk.Tk()\n",
    "root.geometry('400x400')\n",
    "root.resizable(True,True)\n",
    "\n",
    "label = tk.Label(root, text=\"\", justify=\"left\", font=(\"calibri\", 10))\n",
    "label.pack(pady=10)\n",
    "\n",
    "num_one = 30\n",
    "num_two = 60\n",
    "\n",
    "def total_sum():\n",
    "    total=num_one + num_two\n",
    "    label.config(text=total)\n",
    "\n",
    "\n",
    "btn = tk.Button(root, text=\"Total Sum\", command=help_message)\n",
    "btn.pack(pady=5)\n",
    "\n",
    "root.mainloop()"
   ]
  }
 ],
 "metadata": {
  "kernelspec": {
   "display_name": "Python 3 (ipykernel)",
   "language": "python",
   "name": "python3"
  },
  "language_info": {
   "codemirror_mode": {
    "name": "ipython",
    "version": 3
   },
   "file_extension": ".py",
   "mimetype": "text/x-python",
   "name": "python",
   "nbconvert_exporter": "python",
   "pygments_lexer": "ipython3",
   "version": "3.12.2"
  }
 },
 "nbformat": 4,
 "nbformat_minor": 5
}
