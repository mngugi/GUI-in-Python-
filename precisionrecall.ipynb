{
 "cells": [
  {
   "cell_type": "code",
   "execution_count": 4,
   "id": "930300d9-2bf0-424e-86be-53270665dbe6",
   "metadata": {},
   "outputs": [
    {
     "name": "stdout",
     "output_type": "stream",
     "text": [
      "Precision: 0.833\n",
      "Recall: 0.769\n"
     ]
    }
   ],
   "source": [
    "def precision(tp, fp):\n",
    "    '''\n",
    "    Computes the precision score given the number of true positives (tp)\n",
    "    and false positives (fp)\n",
    "    '''\n",
    "    return tp / (tp + fp) if (tp + fp) > 0 else 0\n",
    "\n",
    "def recall(tp, fn):\n",
    "    '''\n",
    "    Computes the recall score given the number of true positives (tp)\n",
    "    and false negatives (fn)\n",
    "    '''\n",
    "    return tp / (tp + fn) if (tp + fn) > 0 else 0\n",
    "\n",
    "def main():\n",
    "    true_positives = 100\n",
    "    false_positives = 20\n",
    "    false_negatives = 30\n",
    "\n",
    "    p = precision(true_positives, false_positives)\n",
    "    r = recall(true_positives, false_negatives)\n",
    "\n",
    "    print(f'Precision: {p:.3f}')\n",
    "    print(f'Recall: {r:.3f}')\n",
    "\n",
    "if __name__ == '__main__':\n",
    "    main()\n"
   ]
  },
  {
   "cell_type": "code",
   "execution_count": null,
   "id": "8ea63e20-67f1-41c4-8f54-a9b59089ae9d",
   "metadata": {},
   "outputs": [],
   "source": [
    "import tkinter as tk\n",
    "from tkinter import messagebox\n",
    "\n",
    "def precision(tp, fp):\n",
    "    return tp / (tp + fp) if (tp + fp) > 0 else 0\n",
    "\n",
    "def recall(tp, fn):\n",
    "    return tp / (tp + fn) if (tp + fn) > 0 else 0\n",
    "\n",
    "def calculate():\n",
    "    try:\n",
    "        tp = int(entry_tp.get())\n",
    "        fp = int(entry_fp.get())\n",
    "        fn = int(entry_fn.get())\n",
    "\n",
    "        p = precision(tp, fp)\n",
    "        r = recall(tp, fn)\n",
    "\n",
    "        label_result.config(\n",
    "            text=f\"Precision: {p:.3f}\\nRecall: {r:.3f}\", fg=\"green\")\n",
    "    except ValueError:\n",
    "        messagebox.showerror(\"Invalid input\", \"Please enter integer values.\")\n",
    "\n",
    "# GUI Setup\n",
    "root = tk.Tk()\n",
    "root.title(\"Precision and Recall Calculator\")\n",
    "root.geometry(\"300x250\")\n",
    "root.resizable(False, False)\n",
    "\n",
    "# Input Fields\n",
    "tk.Label(root, text=\"True Positives (TP):\").pack(pady=5)\n",
    "entry_tp = tk.Entry(root)\n",
    "entry_tp.pack()\n",
    "\n",
    "tk.Label(root, text=\"False Positives (FP):\").pack(pady=5)\n",
    "entry_fp = tk.Entry(root)\n",
    "entry_fp.pack()\n",
    "\n",
    "tk.Label(root, text=\"False Negatives (FN):\").pack(pady=5)\n",
    "entry_fn = tk.Entry(root)\n",
    "entry_fn.pack()\n",
    "\n",
    "# Button to Calculate\n",
    "tk.Button(root, text=\"Calculate\", command=calculate).pack(pady=10)\n",
    "\n",
    "# Output Label\n",
    "label_result = tk.Label(root, text=\"\", font=(\"Arial\", 12))\n",
    "label_result.pack(pady=10)\n",
    "\n",
    "# Run the app\n",
    "root.mainloop()\n"
   ]
  },
  {
   "cell_type": "code",
   "execution_count": null,
   "id": "4edb0828-d645-4645-bed3-4324ae7e6d30",
   "metadata": {},
   "outputs": [],
   "source": []
  }
 ],
 "metadata": {
  "kernelspec": {
   "display_name": "Python 3 (ipykernel)",
   "language": "python",
   "name": "python3"
  },
  "language_info": {
   "codemirror_mode": {
    "name": "ipython",
    "version": 3
   },
   "file_extension": ".py",
   "mimetype": "text/x-python",
   "name": "python",
   "nbconvert_exporter": "python",
   "pygments_lexer": "ipython3",
   "version": "3.12.2"
  }
 },
 "nbformat": 4,
 "nbformat_minor": 5
}
