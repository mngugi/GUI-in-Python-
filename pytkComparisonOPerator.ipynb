{
 "cells": [
  {
   "cell_type": "markdown",
   "id": "129e12c0-6a46-49af-b8fb-727a721b383b",
   "metadata": {},
   "source": [
    "**Introduction to Python comparison operators**\n",
    "\n",
    "In programming, you often want to compare a value with another value. To do that, you use comparison operators.\n",
    "\n",
    "Python has six comparison operators, which are as follows:\n",
    "\n",
    "- Less than ( < )\n",
    "- Less than or equal to (<=)\n",
    "- Greater than (>)\n",
    "- Greater than or equal to (>=)\n",
    "- Equal to ( == )\n",
    "- Not equal to ( != )\n",
    "  \n",
    "These comparison operators compare two values and return a boolean value, either True or False."
   ]
  },
  {
   "cell_type": "code",
   "execution_count": 8,
   "id": "20bcd924-951e-4d0c-a922-1f6243a2138a",
   "metadata": {},
   "outputs": [],
   "source": [
    "import tkinter as tk\n",
    "\n",
    "root = tk.Tk()\n",
    "root.geometry('200x200')\n",
    "root.resizable(True, True)\n",
    "\n",
    "\n",
    "\n",
    "label = tk.Label(root,fg='red', bg='white', text=\"\")\n",
    "label.pack(pady=5)\n",
    "\n",
    "def operators():\n",
    "    i = 2\n",
    "    j = 6\n",
    "\n",
    "    result = i < j\n",
    "    label.config(text=f\" i is less that j is: {result}\")\n",
    "\n",
    "\n",
    "button= tk.Button(root, text='Compare', command=operators)\n",
    "button.pack(pady=10)\n",
    "\n",
    "root.mainloop()"
   ]
  },
  {
   "cell_type": "code",
   "execution_count": null,
   "id": "072df637-7003-4a95-8c79-4d6916053961",
   "metadata": {},
   "outputs": [],
   "source": []
  }
 ],
 "metadata": {
  "kernelspec": {
   "display_name": "Python 3 (ipykernel)",
   "language": "python",
   "name": "python3"
  },
  "language_info": {
   "codemirror_mode": {
    "name": "ipython",
    "version": 3
   },
   "file_extension": ".py",
   "mimetype": "text/x-python",
   "name": "python",
   "nbconvert_exporter": "python",
   "pygments_lexer": "ipython3",
   "version": "3.12.2"
  }
 },
 "nbformat": 4,
 "nbformat_minor": 5
}
