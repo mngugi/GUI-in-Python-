{
 "cells": [
  {
   "cell_type": "code",
   "execution_count": null,
   "id": "fb1a0c35-a9d9-4128-a270-3f959893ca52",
   "metadata": {},
   "outputs": [],
   "source": [
    "import tkinter as tk\n",
    "\n",
    "root = tk.Tk()\n",
    "root.geometry('400x400')\n",
    "root.resizable(False,False)\n",
    "\n",
    "label = tk.Label(root, text=\"\", justify=\"left\", font=(\"calibri\", 10))\n",
    "label.pack(pady=10)\n",
    "\n",
    "def help_message():\n",
    "    db_table = 'Login table'\n",
    "    message =  f'Data Base Table:{db_table}' #Python will replace the {name} by the value of the name variable\n",
    "    label.config(text=message)\n",
    "    \n",
    "btn = tk.Button(root, text=\"Show message\", command=help_message)\n",
    "btn.pack(pady=5)\n",
    "\n",
    "root.mainloop()"
   ]
  },
  {
   "cell_type": "code",
   "execution_count": null,
   "id": "6f8d668c-fdfd-4c3d-a6a9-31ce00d088d4",
   "metadata": {},
   "outputs": [],
   "source": []
  }
 ],
 "metadata": {
  "kernelspec": {
   "display_name": "Python 3 (ipykernel)",
   "language": "python",
   "name": "python3"
  },
  "language_info": {
   "codemirror_mode": {
    "name": "ipython",
    "version": 3
   },
   "file_extension": ".py",
   "mimetype": "text/x-python",
   "name": "python",
   "nbconvert_exporter": "python",
   "pygments_lexer": "ipython3",
   "version": "3.12.2"
  }
 },
 "nbformat": 4,
 "nbformat_minor": 5
}
