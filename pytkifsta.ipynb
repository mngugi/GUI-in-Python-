{
 "cells": [
  {
   "cell_type": "markdown",
   "id": "8171a8b2-8700-4d00-bfb7-71f977df6d1b",
   "metadata": {},
   "source": [
    "**Overview**\n",
    "\n",
    "This python snippet is a if statement that executes a block of code, and that is\n",
    "integrated in tkinter GUI.\n",
    "\n",
    "---"
   ]
  },
  {
   "cell_type": "code",
   "execution_count": 3,
   "id": "2aa78dac-17be-4907-9a8a-622f86380fc9",
   "metadata": {},
   "outputs": [],
   "source": [
    "import tkinter as tk\n",
    "\n",
    "root = tk.Tk()\n",
    "root.geometry('200x250')\n",
    "root.resizable(True,True)\n",
    "\n",
    "entry = tk.Entry(root)\n",
    "entry.pack(pady=5)\n",
    "\n",
    "label = tk.Label(root, text='', fg='purple', bg='pink')\n",
    "label.pack(pady=5)\n",
    "\n",
    "def ifstatement():\n",
    "    try:\n",
    "\n",
    "        age = int(entry.get())\n",
    "        if int(age) >=18:\n",
    "            label.config(text= f'The legal age to vote is: {age} years.' )\n",
    "    except valueError:\n",
    "        label.config(text='Enter a Valid number!')\n",
    "        \n",
    "button= tk.Button(root, text='Age', command=ifstatement)\n",
    "button.pack(pady=10)\n",
    "\n",
    "root.mainloop()\n",
    "        \n",
    "    "
   ]
  },
  {
   "cell_type": "markdown",
   "id": "26deb7b0-bb95-4f9c-93ba-dc4487426abe",
   "metadata": {},
   "source": [
    "`def ifstatement():`\n",
    "\n",
    "    \"\"\"\n",
    "    Checks if a person is eligible to vote and updates the label.\n",
    "\n",
    "    - Sets the variable `age` to 18.\n",
    "    - Uses an if-statement to check if `age` is 18 or older.\n",
    "    - If the condition is true, updates the label to display a message \n",
    "      confirming the legal voting age.\n",
    "    \"\"\"\n",
    "    ```\n",
    "    age = 18\n",
    "    if int(age) >= 18:  # Check if age is 18 or older\n",
    "        label.config(text=f'The legal age to vote is: {age} years.')\n",
    "    ```    \n",
    "    \n",
    "- The variable age is set to 18.\n",
    "\n",
    "- The if statement checks if age is greater than or equal to 18.\n",
    "\n",
    "- Since 18 >= 18 is True, the program updates the Tkinter label with the message:\n",
    "\n",
    "  \n",
    "`\"The legal age to vote is: 18 years.\"`"
   ]
  },
  {
   "cell_type": "markdown",
   "id": "edd110c7-f676-45d1-bf4e-741272caef21",
   "metadata": {},
   "source": [
    "- The following example illustrates you how to use the  `if...else` statement:\n",
    "  \n",
    "```\n",
    "age = input('Enter your age:')\n",
    "if int(age) >= 18:\n",
    "    print(\"You're eligible to vote.\")\n",
    "else:\n",
    "    print(\"You're not eligible to vote.\")\n",
    "\n",
    "```\n"
   ]
  },
  {
   "cell_type": "code",
   "execution_count": 8,
   "id": "0a499037-6c0d-44d7-8011-61b406a7ad45",
   "metadata": {},
   "outputs": [],
   "source": [
    "import tkinter as tk\n",
    "\n",
    "root = tk.Tk()\n",
    "root.geometry('200x250')\n",
    "root.resizable(True,True)\n",
    "\n",
    "# add an entry point\n",
    "entry = tk.Entry(root)\n",
    "entry.pack(pady=5)\n",
    "\n",
    "label = tk.Label(root, text='Enter Age', fg='greenyellow', bg='gray')\n",
    "label.pack(pady=5)\n",
    "\n",
    "def ifstatement():\n",
    "\n",
    "    try:\n",
    "        age = int(entry.get())\n",
    "        if int(age) >=18:\n",
    "            label.config(text= f'The legal age to vote is: {age} years.' )\n",
    "        else:\n",
    "            label.config(text=f'Not eligible to vote!')\n",
    "\n",
    "    except ValueError:\n",
    "        label.config(text='Enter a valid number!')\n",
    "            \n",
    "button= tk.Button(root, text='Age', command=ifstatement)\n",
    "button.pack(pady=10)\n",
    "\n",
    "root.mainloop()\n",
    "        \n",
    "    "
   ]
  },
  {
   "cell_type": "markdown",
   "id": "22238100-b95e-4c44-ae37-e476bf31131f",
   "metadata": {},
   "source": [
    "The following example uses the `if...elif..else statement` to determine the ticket price based on the age:\n"
   ]
  },
  {
   "cell_type": "code",
   "execution_count": null,
   "id": "67b0cfd3-d726-4b2f-bee4-97e2f674ac08",
   "metadata": {},
   "outputs": [],
   "source": [
    "import tkinter as tk\n",
    "\n",
    "root = tk.Tk()\n",
    "root.geometry('300x300')\n",
    "root.resizable(True,True)\n",
    "\n",
    "entry = tk.Entry(root)\n",
    "entry.pack(pady=5)\n",
    "\n",
    "label = tk.Label(root, text='Enter age', fg='greenyellow', bg='gray')\n",
    "label.pack(pady=5)\n",
    "\n",
    "def if_elif_else():\n",
    "    try:\n",
    "        age = int(entry.get())\n",
    "        if your_age < 5:\n",
    "            ticket_price = 5\n",
    "        elif your_age < 16:\n",
    "            ticket_price = 10\n",
    "        else:\n",
    "            ticket_price = 18\n",
    "        \n",
    "        \n",
    "    except: ValueError:\n",
    "        \n",
    "\n"
   ]
  }
 ],
 "metadata": {
  "kernelspec": {
   "display_name": "Python 3 (ipykernel)",
   "language": "python",
   "name": "python3"
  },
  "language_info": {
   "codemirror_mode": {
    "name": "ipython",
    "version": 3
   },
   "file_extension": ".py",
   "mimetype": "text/x-python",
   "name": "python",
   "nbconvert_exporter": "python",
   "pygments_lexer": "ipython3",
   "version": "3.12.2"
  }
 },
 "nbformat": 4,
 "nbformat_minor": 5
}
