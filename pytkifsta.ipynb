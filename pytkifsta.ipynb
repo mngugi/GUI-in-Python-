{
 "cells": [
  {
   "cell_type": "code",
   "execution_count": null,
   "id": "2aa78dac-17be-4907-9a8a-622f86380fc9",
   "metadata": {},
   "outputs": [],
   "source": [
    "import tkinter as tk\n",
    "\n",
    "root = tk.Tk()\n",
    "root.geometry('200x150')\n",
    "root.resizable(True,True)\n",
    "\n",
    "label = tk.Label(root, text='', fg='purple', bg='pink')\n",
    "label.pack(pady=5)\n",
    "\n",
    "def ifstatement():\n",
    "    age = 18\n",
    "    if int(age) >=18:\n",
    "        label.config(text= f'The legal age to vote is: {age} years.' )\n",
    "\n",
    "button= tk.Button(root, text='Age', command=ifstatement)\n",
    "button.pack(pady=10)\n",
    "\n",
    "root.mainloop()\n",
    "        \n",
    "    "
   ]
  },
  {
   "cell_type": "code",
   "execution_count": null,
   "id": "2843c427-caeb-4c21-9f72-dfcb6d7c03d0",
   "metadata": {},
   "outputs": [],
   "source": []
  }
 ],
 "metadata": {
  "kernelspec": {
   "display_name": "Python 3 (ipykernel)",
   "language": "python",
   "name": "python3"
  },
  "language_info": {
   "codemirror_mode": {
    "name": "ipython",
    "version": 3
   },
   "file_extension": ".py",
   "mimetype": "text/x-python",
   "name": "python",
   "nbconvert_exporter": "python",
   "pygments_lexer": "ipython3",
   "version": "3.12.2"
  }
 },
 "nbformat": 4,
 "nbformat_minor": 5
}
