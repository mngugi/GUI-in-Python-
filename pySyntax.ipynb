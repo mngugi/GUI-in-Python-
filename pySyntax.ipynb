{
 "cells": [
  {
   "cell_type": "code",
   "execution_count": 7,
   "id": "e1065ebe-d20e-4c15-8fab-08040c155bc8",
   "metadata": {},
   "outputs": [],
   "source": [
    "import tkinter as tk\n",
    "\n",
    "root = tk.Tk()\n",
    "root.geometry('600x400')\n",
    "root.resizable(True, True)\n",
    "\n",
    "label = tk.Label(root, text=\"0\")\n",
    "label.pack(pady=5)\n",
    "\n",
    "def main():\n",
    "    j = 1\n",
    "    max_count = 10\n",
    "\n",
    "    while j < max_count:\n",
    "        label.config(text=j)\n",
    "        root.update()  # Allow Tkinter to process events\n",
    "        root.after(1000)  # Wait for 500ms\n",
    "        j += 1\n",
    "\n",
    "button= tk.Button(root, text='Count', command=main)\n",
    "button.pack(pady=10)\n",
    "root.mainloop()"
   ]
  },
  {
   "cell_type": "code",
   "execution_count": 2,
   "id": "f2eb1355-d350-4b10-a3e8-bc14d7d3a85c",
   "metadata": {},
   "outputs": [],
   "source": [
    "import tkinter as tk\n",
    "\n",
    "root = tk.Tk()\n",
    "root.geometry('600x400')\n",
    "\n",
    "label = tk.Label(root, text=\"0\")\n",
    "label.pack(pady=5)\n",
    "\n",
    "def count(j=1):\n",
    "    if j <= 10:\n",
    "        label.config(text=j)\n",
    "        root.after(500, count, j+1)\n",
    "\n",
    "button = tk.Button(root, text='Count', command=count)\n",
    "button.pack(pady=10)\n",
    "\n",
    "root.mainloop()\n"
   ]
  },
  {
   "cell_type": "code",
   "execution_count": 11,
   "id": "4f613532-3039-4598-b3e8-ef461a7d9cf0",
   "metadata": {},
   "outputs": [],
   "source": [
    "import tkinter as tk\n",
    "import threading\n",
    "import time\n",
    "\n",
    "root = tk.Tk()\n",
    "root.geometry('600x400')\n",
    "\n",
    "label = tk.Label(root, text=\"0\")\n",
    "label.pack(pady=5)\n",
    "\n",
    "def main():\n",
    "    def count():\n",
    "        j = 1\n",
    "        max_count = 10\n",
    "        while j < max_count:\n",
    "            time.sleep(0.5)  # Avoid blocking UI\n",
    "            label.config(text=str(j))\n",
    "            j += 1\n",
    "            root.update_idletasks()  # Force UI update\n",
    "\n",
    "    threading.Thread(target=count, daemon=True).start()  # Run in a separate thread\n",
    "\n",
    "button = tk.Button(root, text='Count', command=main)\n",
    "button.pack(pady=10)\n",
    "\n",
    "root.mainloop()\n"
   ]
  },
  {
   "cell_type": "code",
   "execution_count": null,
   "id": "7df25fcc-02c6-49b4-b8cc-74e5df759729",
   "metadata": {},
   "outputs": [],
   "source": []
  }
 ],
 "metadata": {
  "kernelspec": {
   "display_name": "Python 3 (ipykernel)",
   "language": "python",
   "name": "python3"
  },
  "language_info": {
   "codemirror_mode": {
    "name": "ipython",
    "version": 3
   },
   "file_extension": ".py",
   "mimetype": "text/x-python",
   "name": "python",
   "nbconvert_exporter": "python",
   "pygments_lexer": "ipython3",
   "version": "3.12.2"
  }
 },
 "nbformat": 4,
 "nbformat_minor": 5
}
