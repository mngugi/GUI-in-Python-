{
 "cells": [
  {
   "cell_type": "code",
   "execution_count": null,
   "id": "2f715fe9-db33-449e-b783-a74f0742aa5d",
   "metadata": {},
   "outputs": [],
   "source": [
    "import tkinter as tk\n",
    "\n",
    "root = tk.T()\n",
    "root.geometry('600x400')\n",
    "root.resizable(True, True)\n",
    "\n",
    "label = tk.Label(root, text='0')\n",
    "label.pack(pady=5)\n",
    "\n",
    "def variable_value():\n",
    "    message = \"Confidential Data\"\n",
    "    print(message)\n",
    "    \n",
    "btn = tk.Button(root, text=\"variable_vlaue\", command=variable_value )\n",
    "btn.pack(pady=5)\n",
    "\n",
    "root.mainloop()\n"
   ]
  }
 ],
 "metadata": {
  "kernelspec": {
   "display_name": "Python 3 (ipykernel)",
   "language": "python",
   "name": "python3"
  },
  "language_info": {
   "codemirror_mode": {
    "name": "ipython",
    "version": 3
   },
   "file_extension": ".py",
   "mimetype": "text/x-python",
   "name": "python",
   "nbconvert_exporter": "python",
   "pygments_lexer": "ipython3",
   "version": "3.12.2"
  }
 },
 "nbformat": 4,
 "nbformat_minor": 5
}
