{
 "cells": [
  {
   "cell_type": "code",
   "execution_count": null,
   "id": "2f715fe9-db33-449e-b783-a74f0742aa5d",
   "metadata": {},
   "outputs": [
    {
     "name": "stderr",
     "output_type": "stream",
     "text": [
      "Exception in Tkinter callback\n",
      "Traceback (most recent call last):\n",
      "  File \"/home/sigma69/anaconda3/lib/python3.12/tkinter/__init__.py\", line 1967, in __call__\n",
      "    return self.func(*args)\n",
      "           ^^^^^^^^^^^^^^^^\n",
      "  File \"/tmp/ipykernel_20472/1727576715.py\", line 12, in variable_value\n",
      "    label.config(message) #print message\n",
      "    ^^^^^^^^^^^^^^^^^^^^^\n",
      "  File \"/home/sigma69/anaconda3/lib/python3.12/tkinter/__init__.py\", line 1721, in configure\n",
      "    return self._configure('configure', cnf, kw)\n",
      "           ^^^^^^^^^^^^^^^^^^^^^^^^^^^^^^^^^^^^^\n",
      "  File \"/home/sigma69/anaconda3/lib/python3.12/tkinter/__init__.py\", line 1710, in _configure\n",
      "    return self._getconfigure1(_flatten((self._w, cmd, '-'+cnf)))\n",
      "           ^^^^^^^^^^^^^^^^^^^^^^^^^^^^^^^^^^^^^^^^^^^^^^^^^^^^^^\n",
      "  File \"/home/sigma69/anaconda3/lib/python3.12/tkinter/__init__.py\", line 1698, in _getconfigure1\n",
      "    x = self.tk.splitlist(self.tk.call(*args))\n",
      "                          ^^^^^^^^^^^^^^^^^^^\n",
      "_tkinter.TclError: unknown option \"-Confidential Data\"\n"
     ]
    }
   ],
   "source": [
    "import tkinter as tk\n",
    "\n",
    "root = tk.Tk()\n",
    "root.geometry('600x400')\n",
    "root.resizable(True, True)\n",
    "\n",
    "label = tk.Label(root, text='')\n",
    "label.pack(pady=5)\n",
    "\n",
    "def variable_value():\n",
    "    message = \"Confidential Data\"\n",
    "    label.config(text=message) #print message\n",
    "    \n",
    "    \n",
    "btn = tk.Button(root, text=\"Show message\", command=variable_value )\n",
    "btn.pack(pady=5)\n",
    "\n",
    "root.mainloop()\n"
   ]
  },
  {
   "cell_type": "code",
   "execution_count": null,
   "id": "341e2a4e-7535-4807-a2f9-210d008c2181",
   "metadata": {},
   "outputs": [],
   "source": []
  }
 ],
 "metadata": {
  "kernelspec": {
   "display_name": "Python 3 (ipykernel)",
   "language": "python",
   "name": "python3"
  },
  "language_info": {
   "codemirror_mode": {
    "name": "ipython",
    "version": 3
   },
   "file_extension": ".py",
   "mimetype": "text/x-python",
   "name": "python",
   "nbconvert_exporter": "python",
   "pygments_lexer": "ipython3",
   "version": "3.12.2"
  }
 },
 "nbformat": 4,
 "nbformat_minor": 5
}
