{
 "cells": [
  {
   "cell_type": "code",
   "execution_count": 7,
   "id": "2f715fe9-db33-449e-b783-a74f0742aa5d",
   "metadata": {},
   "outputs": [],
   "source": [
    "import tkinter as tk\n",
    "\n",
    "root = tk.Tk()\n",
    "root.geometry('600x400')\n",
    "root.resizable(True,True)\n",
    "\n",
    "label = tk.Label(root, text='')\n",
    "label.pack(pady=5)\n",
    "\n",
    "def variable_value():\n",
    "    message = \"Confidential Data\"\n",
    "    label.config(text=message) #print message\n",
    "    \n",
    "    \n",
    "btn = tk.Button(root, text=\"Show message\", command=variable_value )\n",
    "btn.pack(pady=5)\n",
    "\n",
    "root.mainloop()\n"
   ]
  },
  {
   "cell_type": "code",
   "execution_count": null,
   "id": "341e2a4e-7535-4807-a2f9-210d008c2181",
   "metadata": {},
   "outputs": [],
   "source": []
  },
  {
   "cell_type": "code",
   "execution_count": null,
   "id": "e82dfb0f-d8f2-43ea-a04d-76e2820dd35e",
   "metadata": {},
   "outputs": [],
   "source": []
  }
 ],
 "metadata": {
  "kernelspec": {
   "display_name": "Python 3 (ipykernel)",
   "language": "python",
   "name": "python3"
  },
  "language_info": {
   "codemirror_mode": {
    "name": "ipython",
    "version": 3
   },
   "file_extension": ".py",
   "mimetype": "text/x-python",
   "name": "python",
   "nbconvert_exporter": "python",
   "pygments_lexer": "ipython3",
   "version": "3.12.2"
  }
 },
 "nbformat": 4,
 "nbformat_minor": 5
}
