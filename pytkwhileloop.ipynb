{
 "cells": [
  {
   "cell_type": "code",
   "execution_count": null,
   "id": "835c23e1-22fe-4fe7-89ef-dbc1cffa9c2d",
   "metadata": {},
   "outputs": [],
   "source": [
    "import tkinter as tk\n",
    "\n",
    "root = tk.Tk()\n",
    "root.title(\"Tkinter For Loop Example\")\n",
    "root.resizable(True, True)\n",
    "root.geometry('400x250')\n",
    "\n",
    "entry = tk.Entry(root)\n",
    "entry.pack(pady=5)\n",
    "\n",
    "label = tk.Label(root, text='Prompt', fg='white', bg='black' )\n",
    "label.pack(pady=5)\n",
    "\n",
    "def prompt_command():\n",
    "    command = entry.get()\n",
    "    while command.lower() !='quit':\n",
    "        command = input('>')\n",
    "        label.config(text= f\"Echo: {command}\")\n",
    "\n",
    "button= tk.Button(root, text='Prompt', command=prompt_command)\n",
    "button.pack(pady=10)\n",
    "\n",
    "root.mainloop()\n",
    "    \n",
    "\n"
   ]
  },
  {
   "cell_type": "code",
   "execution_count": null,
   "id": "14445aa3-f9a5-4028-9d04-04c1d2a2cf13",
   "metadata": {},
   "outputs": [
    {
     "name": "stdin",
     "output_type": "stream",
     "text": [
      ">  hi\n",
      ">  he5re\n",
      ">  quit\n"
     ]
    }
   ],
   "source": [
    "import tkinter as tk\n",
    "import threading\n",
    "\n",
    "root = tk.Tk()\n",
    "root.title(\"Tkinter While Loop Example\")\n",
    "root.geometry('400x250')\n",
    "\n",
    "label = tk.Label(root, text='Prompt', fg='white', bg='black')\n",
    "label.pack(pady=10)\n",
    "\n",
    "def prompt_command():\n",
    "    threading.Thread(target=start_loop, daemon=True).start()\n",
    "\n",
    "def start_loop():\n",
    "    command = ''\n",
    "    while command.lower() != 'quit':\n",
    "        command = input('> ')\n",
    "        root.after(0, lambda cmd=command: label.config(text=f\"Echo: {cmd}\"))\n",
    "\n",
    "tk.Button(root, text='Prompt', command=prompt_command).pack(pady=10)\n",
    "root.mainloop()\n"
   ]
  },
  {
   "cell_type": "code",
   "execution_count": null,
   "id": "1e1ed3a8-c004-438b-8d3b-7d9f96197e17",
   "metadata": {},
   "outputs": [],
   "source": [
    "import tkinter as tk\n",
    "import threading\n",
    "import time\n",
    "\n",
    "root = tk.Tk()\n",
    "root.title(\"Tkinter While Loop with Entry\")\n",
    "root.geometry('400x250')\n",
    "\n",
    "entry = tk.Entry(root)\n",
    "entry.pack(pady=5)\n",
    "\n",
    "label = tk.Label(root, text='Prompt', fg='white', bg='black')\n",
    "label.pack(pady=5)\n",
    "\n",
    "# Shared variable to hold the latest command\n",
    "latest_command = {'value': ''}\n",
    "\n",
    "# Called when user submits input\n",
    "def submit_input():\n",
    "    latest_command['value'] = entry.get()\n",
    "    entry.delete(0, tk.END)\n",
    "\n",
    "# Real while loop, running in a thread\n",
    "def prompt_command():\n",
    "    threading.Thread(target=loop, daemon=True).start()\n",
    "\n",
    "def loop():\n",
    "    command = ''\n",
    "    while command.lower() != 'quit':\n",
    "        while latest_command['value'] == '':\n",
    "            time.sleep(0.1)  # wait for user to submit something\n",
    "        command = latest_command['value']\n",
    "        latest_command['value'] = ''  # reset input\n",
    "        root.after(0, lambda c=command: label.config(text=f\"Echo: {c}\"))\n",
    "\n",
    "    root.after(0, lambda: label.config(text=\"Goodbye!\"))\n",
    "    root.after(0, lambda: entry.config(state='disabled'))\n",
    "\n",
    "tk.Button(root, text='Submit', command=submit_input).pack(pady=5)\n",
    "tk.Button(root, text='Start Loop', command=prompt_command).pack(pady=10)\n",
    "\n",
    "root.mainloop()\n"
   ]
  }
 ],
 "metadata": {
  "kernelspec": {
   "display_name": "Python 3 (ipykernel)",
   "language": "python",
   "name": "python3"
  },
  "language_info": {
   "codemirror_mode": {
    "name": "ipython",
    "version": 3
   },
   "file_extension": ".py",
   "mimetype": "text/x-python",
   "name": "python",
   "nbconvert_exporter": "python",
   "pygments_lexer": "ipython3",
   "version": "3.12.2"
  }
 },
 "nbformat": 4,
 "nbformat_minor": 5
}
